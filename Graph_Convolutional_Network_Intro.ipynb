{
  "nbformat": 4,
  "nbformat_minor": 0,
  "metadata": {
    "colab": {
      "name": "Graph_Convolutional_Network_Intro.ipynb",
      "provenance": []
    },
    "kernelspec": {
      "name": "python3",
      "display_name": "Python 3"
    }
  },
  "cells": [
    {
      "cell_type": "code",
      "metadata": {
        "id": "RbMLTpqhNbI6",
        "colab_type": "code",
        "colab": {}
      },
      "source": [
        "import numpy as np\n",
        "A = np.matrix([\n",
        "    [0, 1, 0, 0],\n",
        "    [0, 0, 1, 1], \n",
        "    [0, 1, 0, 0],\n",
        "    [1, 0, 1, 0]],\n",
        "    dtype=float\n",
        ")"
      ],
      "execution_count": 0,
      "outputs": []
    },
    {
      "cell_type": "code",
      "metadata": {
        "id": "F_SBa8s6NsUf",
        "colab_type": "code",
        "colab": {
          "base_uri": "https://localhost:8080/",
          "height": 85
        },
        "outputId": "d7e1ab22-76ee-4402-bec1-1c47340a3149"
      },
      "source": [
        "X = np.matrix([\n",
        "            [i, -i]\n",
        "            for i in range(A.shape[0])\n",
        "        ], dtype=float)\n",
        "X"
      ],
      "execution_count": 3,
      "outputs": [
        {
          "output_type": "execute_result",
          "data": {
            "text/plain": [
              "matrix([[ 0.,  0.],\n",
              "        [ 1., -1.],\n",
              "        [ 2., -2.],\n",
              "        [ 3., -3.]])"
            ]
          },
          "metadata": {
            "tags": []
          },
          "execution_count": 3
        }
      ]
    },
    {
      "cell_type": "code",
      "metadata": {
        "id": "-sivxmkbN0Pt",
        "colab_type": "code",
        "colab": {
          "base_uri": "https://localhost:8080/",
          "height": 85
        },
        "outputId": "6f92500c-bc57-4f37-a0b2-f36a60fcf2da"
      },
      "source": [
        "#Propogation Rule\n",
        "A * X"
      ],
      "execution_count": 4,
      "outputs": [
        {
          "output_type": "execute_result",
          "data": {
            "text/plain": [
              "matrix([[ 1., -1.],\n",
              "        [ 5., -5.],\n",
              "        [ 1., -1.],\n",
              "        [ 2., -2.]])"
            ]
          },
          "metadata": {
            "tags": []
          },
          "execution_count": 4
        }
      ]
    },
    {
      "cell_type": "code",
      "metadata": {
        "id": "y3_YupxdOU8W",
        "colab_type": "code",
        "colab": {
          "base_uri": "https://localhost:8080/",
          "height": 85
        },
        "outputId": "62672649-765a-4cdf-c899-26e9501e6cc6"
      },
      "source": [
        "#Adding self loops\n",
        "I = np.matrix(np.eye(A.shape[0]))\n",
        "I"
      ],
      "execution_count": 5,
      "outputs": [
        {
          "output_type": "execute_result",
          "data": {
            "text/plain": [
              "matrix([[1., 0., 0., 0.],\n",
              "        [0., 1., 0., 0.],\n",
              "        [0., 0., 1., 0.],\n",
              "        [0., 0., 0., 1.]])"
            ]
          },
          "metadata": {
            "tags": []
          },
          "execution_count": 5
        }
      ]
    },
    {
      "cell_type": "code",
      "metadata": {
        "id": "sAFL3C_vOgWP",
        "colab_type": "code",
        "colab": {
          "base_uri": "https://localhost:8080/",
          "height": 85
        },
        "outputId": "e7b27d6f-3adc-4f5e-adfc-cde0cb8332d0"
      },
      "source": [
        "A_hat = A + I\n",
        "A_hat * X"
      ],
      "execution_count": 6,
      "outputs": [
        {
          "output_type": "execute_result",
          "data": {
            "text/plain": [
              "matrix([[ 1., -1.],\n",
              "        [ 6., -6.],\n",
              "        [ 3., -3.],\n",
              "        [ 5., -5.]])"
            ]
          },
          "metadata": {
            "tags": []
          },
          "execution_count": 6
        }
      ]
    },
    {
      "cell_type": "code",
      "metadata": {
        "id": "vUw1GJoeRCAb",
        "colab_type": "code",
        "colab": {}
      },
      "source": [
        "D_hat = D + I"
      ],
      "execution_count": 0,
      "outputs": []
    },
    {
      "cell_type": "code",
      "metadata": {
        "id": "PlXOeh5wOzLW",
        "colab_type": "code",
        "colab": {
          "base_uri": "https://localhost:8080/",
          "height": 85
        },
        "outputId": "6fe4391f-4d43-4c35-da1f-5ce0f83592a2"
      },
      "source": [
        "D = np.array(np.sum(A, axis=0))[0]\n",
        "D = np.matrix(np.diag(D))\n",
        "D"
      ],
      "execution_count": 8,
      "outputs": [
        {
          "output_type": "execute_result",
          "data": {
            "text/plain": [
              "matrix([[1., 0., 0., 0.],\n",
              "        [0., 2., 0., 0.],\n",
              "        [0., 0., 2., 0.],\n",
              "        [0., 0., 0., 1.]])"
            ]
          },
          "metadata": {
            "tags": []
          },
          "execution_count": 8
        }
      ]
    },
    {
      "cell_type": "code",
      "metadata": {
        "id": "z39Rl392P5-m",
        "colab_type": "code",
        "colab": {
          "base_uri": "https://localhost:8080/",
          "height": 85
        },
        "outputId": "43a69a58-31e2-45a6-ee9c-28b87a1fe7ac"
      },
      "source": [
        "D**-1 * A"
      ],
      "execution_count": 9,
      "outputs": [
        {
          "output_type": "execute_result",
          "data": {
            "text/plain": [
              "matrix([[0. , 1. , 0. , 0. ],\n",
              "        [0. , 0. , 0.5, 0.5],\n",
              "        [0. , 0.5, 0. , 0. ],\n",
              "        [1. , 0. , 1. , 0. ]])"
            ]
          },
          "metadata": {
            "tags": []
          },
          "execution_count": 9
        }
      ]
    },
    {
      "cell_type": "code",
      "metadata": {
        "id": "m7jXPT15QMSB",
        "colab_type": "code",
        "colab": {
          "base_uri": "https://localhost:8080/",
          "height": 85
        },
        "outputId": "9274a2c8-b255-4b7f-8d3a-c515fa8497c7"
      },
      "source": [
        "D**-1 * A * X"
      ],
      "execution_count": 10,
      "outputs": [
        {
          "output_type": "execute_result",
          "data": {
            "text/plain": [
              "matrix([[ 1. , -1. ],\n",
              "        [ 2.5, -2.5],\n",
              "        [ 0.5, -0.5],\n",
              "        [ 2. , -2. ]])"
            ]
          },
          "metadata": {
            "tags": []
          },
          "execution_count": 10
        }
      ]
    },
    {
      "cell_type": "code",
      "metadata": {
        "id": "v1YQRsGSQlaO",
        "colab_type": "code",
        "colab": {}
      },
      "source": [
        " W = np.matrix([\n",
        "             [1, -1],\n",
        "             [-1, 1]\n",
        "         ])"
      ],
      "execution_count": 0,
      "outputs": []
    },
    {
      "cell_type": "code",
      "metadata": {
        "id": "HAQCSzHeRUO8",
        "colab_type": "code",
        "colab": {
          "base_uri": "https://localhost:8080/",
          "height": 85
        },
        "outputId": "074c864a-ab78-436e-bec5-b7679502d8f3"
      },
      "source": [
        "mt=D_hat**-1 * A_hat * X * W\n",
        "mt"
      ],
      "execution_count": 18,
      "outputs": [
        {
          "output_type": "execute_result",
          "data": {
            "text/plain": [
              "matrix([[ 1., -1.],\n",
              "        [ 4., -4.],\n",
              "        [ 2., -2.],\n",
              "        [ 5., -5.]])"
            ]
          },
          "metadata": {
            "tags": []
          },
          "execution_count": 18
        }
      ]
    },
    {
      "cell_type": "code",
      "metadata": {
        "id": "ExZgbS9SQmul",
        "colab_type": "code",
        "colab": {}
      },
      "source": [
        "def ReLU(x):\n",
        "    return x * (x > 0)"
      ],
      "execution_count": 0,
      "outputs": []
    },
    {
      "cell_type": "code",
      "metadata": {
        "id": "sQ_SEt5BT6Zd",
        "colab_type": "code",
        "colab": {
          "base_uri": "https://localhost:8080/",
          "height": 34
        },
        "outputId": "4f185dae-0ddf-4f47-f04b-f821efd762f9"
      },
      "source": [
        "mt=[[ 1., -1.],\n",
        "        [ 4., -4.],\n",
        "        [ 2., -2.],\n",
        "        [ 5., -5.]]\n",
        "mt"
      ],
      "execution_count": 32,
      "outputs": [
        {
          "output_type": "execute_result",
          "data": {
            "text/plain": [
              "[[1.0, -1.0], [4.0, -4.0], [2.0, -2.0], [5.0, -5.0]]"
            ]
          },
          "metadata": {
            "tags": []
          },
          "execution_count": 32
        }
      ]
    },
    {
      "cell_type": "code",
      "metadata": {
        "id": "sKHMzM0sRfPq",
        "colab_type": "code",
        "colab": {
          "base_uri": "https://localhost:8080/",
          "height": 34
        },
        "outputId": "d718ebfb-d335-4b9d-c1d6-0136a6d9d950"
      },
      "source": [
        "for i in range(4):\n",
        "  for j in range(2):\n",
        "    mt[i][j]=ReLU(mt[i][j])\n",
        "mt"
      ],
      "execution_count": 33,
      "outputs": [
        {
          "output_type": "execute_result",
          "data": {
            "text/plain": [
              "[[1.0, -0.0], [4.0, -0.0], [2.0, -0.0], [5.0, -0.0]]"
            ]
          },
          "metadata": {
            "tags": []
          },
          "execution_count": 33
        }
      ]
    },
    {
      "cell_type": "code",
      "metadata": {
        "id": "t2oHi3WCUjZx",
        "colab_type": "code",
        "colab": {}
      },
      "source": [
        "#Building GCN\n",
        "from networkx import karate_club_graph, to_numpy_matrix\n",
        "zkc = karate_club_graph()\n",
        "order = sorted(list(zkc.nodes()))\n",
        "A = to_numpy_matrix(zkc, nodelist=order)\n",
        "I = np.eye(zkc.number_of_nodes())\n",
        "A_hat = A + I\n",
        "D_hat = np.array(np.sum(A_hat, axis=0))[0]\n",
        "D_hat = np.matrix(np.diag(D_hat))"
      ],
      "execution_count": 0,
      "outputs": []
    },
    {
      "cell_type": "code",
      "metadata": {
        "id": "YngSQXR-UqSP",
        "colab_type": "code",
        "colab": {}
      },
      "source": [
        "W_1 = np.random.normal(\n",
        "    loc=0, scale=1, size=(zkc.number_of_nodes(), 4))\n",
        "W_2 = np.random.normal(\n",
        "    loc=0, size=(W_1.shape[1], 2))"
      ],
      "execution_count": 0,
      "outputs": []
    },
    {
      "cell_type": "code",
      "metadata": {
        "id": "pslUKfHWUvUn",
        "colab_type": "code",
        "colab": {}
      },
      "source": [
        "def gcn_layer(A_hat, D_hat, X, W):\n",
        "  x=D_hat**-1 * A_hat * X * W\n",
        "  return np.maximum(x, 0, x)\n",
        "H_1 = gcn_layer(A_hat, D_hat, I, W_1)\n",
        "H_2 = gcn_layer(A_hat, D_hat, H_1, W_2)\n",
        "output = H_2"
      ],
      "execution_count": 0,
      "outputs": []
    },
    {
      "cell_type": "code",
      "metadata": {
        "id": "ojmENV6eVK_O",
        "colab_type": "code",
        "colab": {
          "base_uri": "https://localhost:8080/",
          "height": 595
        },
        "outputId": "8c5fdb42-0965-4724-f630-20eff4e35c94"
      },
      "source": [
        "feature_representations = {\n",
        "    node: np.array(output)[node] \n",
        "    for node in zkc.nodes()}\n",
        "feature_representations"
      ],
      "execution_count": 39,
      "outputs": [
        {
          "output_type": "execute_result",
          "data": {
            "text/plain": [
              "{0: array([0., 0.]),\n",
              " 1: array([0., 0.]),\n",
              " 2: array([0.        , 0.21904491]),\n",
              " 3: array([0.18792531, 0.        ]),\n",
              " 4: array([0.22327006, 0.        ]),\n",
              " 5: array([0.09671562, 0.        ]),\n",
              " 6: array([0.12334957, 0.        ]),\n",
              " 7: array([0.26205203, 0.        ]),\n",
              " 8: array([0.        , 0.11069593]),\n",
              " 9: array([0.        , 0.49272904]),\n",
              " 10: array([0.14629539, 0.        ]),\n",
              " 11: array([0.22980836, 0.        ]),\n",
              " 12: array([0.17075053, 0.        ]),\n",
              " 13: array([0.1764936, 0.       ]),\n",
              " 14: array([0.       , 0.4037232]),\n",
              " 15: array([0.        , 0.13431332]),\n",
              " 16: array([0., 0.]),\n",
              " 17: array([0.18660424, 0.        ]),\n",
              " 18: array([0.        , 0.12668171]),\n",
              " 19: array([0.16076076, 0.        ]),\n",
              " 20: array([0.        , 0.03097627]),\n",
              " 21: array([0., 0.]),\n",
              " 22: array([0.        , 0.29982818]),\n",
              " 23: array([0.        , 0.11846057]),\n",
              " 24: array([0.07260365, 0.        ]),\n",
              " 25: array([0.08402117, 0.        ]),\n",
              " 26: array([0.        , 0.32890654]),\n",
              " 27: array([0.02940303, 0.        ]),\n",
              " 28: array([0.        , 0.19933118]),\n",
              " 29: array([0.       , 0.2566114]),\n",
              " 30: array([0.        , 0.04864632]),\n",
              " 31: array([0.05083779, 0.04683233]),\n",
              " 32: array([0.        , 0.21696204]),\n",
              " 33: array([0.        , 0.37050231])}"
            ]
          },
          "metadata": {
            "tags": []
          },
          "execution_count": 39
        }
      ]
    }
  ]
}